{
  "nbformat": 4,
  "nbformat_minor": 0,
  "metadata": {
    "colab": {
      "name": "Shakespeare_poetry.ipynb",
      "version": "0.3.2",
      "provenance": [],
      "include_colab_link": true
    },
    "kernelspec": {
      "name": "python3",
      "display_name": "Python 3"
    },
    "accelerator": "GPU"
  },
  "cells": [
    {
      "cell_type": "markdown",
      "metadata": {
        "id": "view-in-github",
        "colab_type": "text"
      },
      "source": [
        "<a href=\"https://colab.research.google.com/github/piyush1795/Natural-Language-Processing-in-TensorFlow/blob/master/Shakespeare_poetry.ipynb\" target=\"_parent\"><img src=\"https://colab.research.google.com/assets/colab-badge.svg\" alt=\"Open In Colab\"/></a>"
      ]
    },
    {
      "cell_type": "code",
      "metadata": {
        "id": "KUNFJ3Q8IwXn",
        "colab_type": "code",
        "colab": {}
      },
      "source": [
        "from tensorflow.keras.preprocessing.sequence import pad_sequences\n",
        "from tensorflow.keras.layers import Embedding,LSTM,Dense,Dropout,Bidirectional\n",
        "from tensorflow.keras.preprocessing.text import Tokenizer\n",
        "from tensorflow.keras.models import Sequential\n",
        "from tensorflow.keras.optimizers import Adam\n",
        "from tensorflow.keras import regularizers\n",
        "import tensorflow.keras.utils as ku\n",
        "import numpy as np"
      ],
      "execution_count": 0,
      "outputs": []
    },
    {
      "cell_type": "code",
      "metadata": {
        "id": "wMJpjD0PI0RR",
        "colab_type": "code",
        "colab": {
          "base_uri": "https://localhost:8080/",
          "height": 204
        },
        "outputId": "418a38a4-06b5-43f6-8d9f-d79de996fe0a"
      },
      "source": [
        "tokenizer = Tokenizer()\n",
        "!wget --no-check-certificate \\\n",
        "    https://storage.googleapis.com/laurencemoroney-blog.appspot.com/sonnets.txt \\\n",
        "    -O /tmp/sonnets.txt\n",
        "data = open('/tmp/sonnets.txt').read()\n",
        "\n",
        "corpus = data.lower().split(\"\\n\")\n",
        "\n",
        "\n",
        "tokenizer.fit_on_texts(corpus)\n",
        "total_words = len(tokenizer.word_index) + 1\n",
        "\n",
        "\n",
        "input_sequences = []\n",
        "for line in corpus:\n",
        "\ttoken_list = tokenizer.texts_to_sequences([line])[0]\n",
        "\tfor i in range(1, len(token_list)):\n",
        "\t\tn_gram_sequence = token_list[:i+1]\n",
        "\t\tinput_sequences.append(n_gram_sequence)\n",
        "\n",
        "\n",
        "max_sequence_len = max([len(x) for x in input_sequences])\n",
        "input_sequences = np.array(pad_sequences(input_sequences, maxlen=max_sequence_len, padding='pre'))\n",
        "\n",
        "\n",
        "predictors, label = input_sequences[:,:-1],input_sequences[:,-1]\n",
        "\n",
        "label = ku.to_categorical(label, num_classes=total_words)"
      ],
      "execution_count": 2,
      "outputs": [
        {
          "output_type": "stream",
          "text": [
            "--2019-06-24 20:51:00--  https://storage.googleapis.com/laurencemoroney-blog.appspot.com/sonnets.txt\n",
            "Resolving storage.googleapis.com (storage.googleapis.com)... 74.125.142.128, 2607:f8b0:400e:c08::80\n",
            "Connecting to storage.googleapis.com (storage.googleapis.com)|74.125.142.128|:443... connected.\n",
            "HTTP request sent, awaiting response... 200 OK\n",
            "Length: 93578 (91K) [text/plain]\n",
            "Saving to: ‘/tmp/sonnets.txt’\n",
            "\n",
            "\r/tmp/sonnets.txt      0%[                    ]       0  --.-KB/s               \r/tmp/sonnets.txt    100%[===================>]  91.38K  --.-KB/s    in 0.001s  \n",
            "\n",
            "2019-06-24 20:51:00 (87.2 MB/s) - ‘/tmp/sonnets.txt’ saved [93578/93578]\n",
            "\n"
          ],
          "name": "stdout"
        }
      ]
    },
    {
      "cell_type": "code",
      "metadata": {
        "id": "6LKTdTO7I30G",
        "colab_type": "code",
        "colab": {
          "base_uri": "https://localhost:8080/",
          "height": 666
        },
        "outputId": "094e4cb4-2256-4c38-c510-5793b8293ac1"
      },
      "source": [
        "model = Sequential()\n",
        "model.add(Embedding(total_words,100,input_length=max_sequence_len-1))\n",
        "model.add(Bidirectional(LSTM(150,return_sequences = True)))\n",
        "model.add(Dropout(0.2))\n",
        "model.add(LSTM(100))\n",
        "model.add(Dense(total_words/2,activation='relu',kernel_regularizer=regularizers.l2(0.01)))\n",
        "model.add(Dense(total_words,activation='softmax'))\n",
        "model.compile(loss='categorical_crossentropy', optimizer='adam',metrics=['accuracy'])\n",
        "print(model.summary())"
      ],
      "execution_count": 3,
      "outputs": [
        {
          "output_type": "stream",
          "text": [
            "WARNING: Logging before flag parsing goes to stderr.\n",
            "W0624 20:51:04.935380 140125342316416 deprecation.py:506] From /usr/local/lib/python3.6/dist-packages/tensorflow/python/keras/initializers.py:119: calling RandomUniform.__init__ (from tensorflow.python.ops.init_ops) with dtype is deprecated and will be removed in a future version.\n",
            "Instructions for updating:\n",
            "Call initializer instance with the dtype argument instead of passing it to the constructor\n",
            "W0624 20:51:04.961350 140125342316416 deprecation.py:506] From /usr/local/lib/python3.6/dist-packages/tensorflow/python/ops/init_ops.py:1251: calling VarianceScaling.__init__ (from tensorflow.python.ops.init_ops) with dtype is deprecated and will be removed in a future version.\n",
            "Instructions for updating:\n",
            "Call initializer instance with the dtype argument instead of passing it to the constructor\n",
            "W0624 20:51:04.966963 140125342316416 deprecation.py:506] From /usr/local/lib/python3.6/dist-packages/tensorflow/python/ops/init_ops.py:97: calling GlorotUniform.__init__ (from tensorflow.python.ops.init_ops) with dtype is deprecated and will be removed in a future version.\n",
            "Instructions for updating:\n",
            "Call initializer instance with the dtype argument instead of passing it to the constructor\n",
            "W0624 20:51:04.968383 140125342316416 deprecation.py:506] From /usr/local/lib/python3.6/dist-packages/tensorflow/python/ops/init_ops.py:97: calling Orthogonal.__init__ (from tensorflow.python.ops.init_ops) with dtype is deprecated and will be removed in a future version.\n",
            "Instructions for updating:\n",
            "Call initializer instance with the dtype argument instead of passing it to the constructor\n",
            "W0624 20:51:04.969661 140125342316416 deprecation.py:506] From /usr/local/lib/python3.6/dist-packages/tensorflow/python/ops/init_ops.py:97: calling Zeros.__init__ (from tensorflow.python.ops.init_ops) with dtype is deprecated and will be removed in a future version.\n",
            "Instructions for updating:\n",
            "Call initializer instance with the dtype argument instead of passing it to the constructor\n"
          ],
          "name": "stderr"
        },
        {
          "output_type": "stream",
          "text": [
            "Model: \"sequential\"\n",
            "_________________________________________________________________\n",
            "Layer (type)                 Output Shape              Param #   \n",
            "=================================================================\n",
            "embedding (Embedding)        (None, 10, 100)           321100    \n",
            "_________________________________________________________________\n",
            "bidirectional (Bidirectional (None, 10, 300)           301200    \n",
            "_________________________________________________________________\n",
            "dropout (Dropout)            (None, 10, 300)           0         \n",
            "_________________________________________________________________\n",
            "lstm_1 (LSTM)                (None, 100)               160400    \n",
            "_________________________________________________________________\n",
            "dense (Dense)                (None, 1605)              162105    \n",
            "_________________________________________________________________\n",
            "dense_1 (Dense)              (None, 3211)              5156866   \n",
            "=================================================================\n",
            "Total params: 6,101,671\n",
            "Trainable params: 6,101,671\n",
            "Non-trainable params: 0\n",
            "_________________________________________________________________\n",
            "None\n"
          ],
          "name": "stdout"
        }
      ]
    },
    {
      "cell_type": "code",
      "metadata": {
        "id": "Js2BN1bWI7_Y",
        "colab_type": "code",
        "colab": {
          "base_uri": "https://localhost:8080/",
          "height": 1000
        },
        "outputId": "3372596c-8541-46d8-e188-75e40b745ac5"
      },
      "source": [
        "history = model.fit(predictors,label,epochs=100,verbose=1)"
      ],
      "execution_count": 4,
      "outputs": [
        {
          "output_type": "stream",
          "text": [
            "W0624 20:51:09.848737 140125342316416 deprecation.py:323] From /usr/local/lib/python3.6/dist-packages/tensorflow/python/ops/math_grad.py:1250: add_dispatch_support.<locals>.wrapper (from tensorflow.python.ops.array_ops) is deprecated and will be removed in a future version.\n",
            "Instructions for updating:\n",
            "Use tf.where in 2.0, which has the same broadcast rule as np.where\n"
          ],
          "name": "stderr"
        },
        {
          "output_type": "stream",
          "text": [
            "Epoch 1/100\n",
            "15462/15462 [==============================] - 29s 2ms/sample - loss: 6.9023 - acc: 0.0219\n",
            "Epoch 2/100\n",
            "15462/15462 [==============================] - 28s 2ms/sample - loss: 6.4978 - acc: 0.0219\n",
            "Epoch 3/100\n",
            "15462/15462 [==============================] - 28s 2ms/sample - loss: 6.3886 - acc: 0.0235\n",
            "Epoch 4/100\n",
            "15462/15462 [==============================] - 28s 2ms/sample - loss: 6.2634 - acc: 0.0302\n",
            "Epoch 5/100\n",
            "15462/15462 [==============================] - 27s 2ms/sample - loss: 6.1674 - acc: 0.0351\n",
            "Epoch 6/100\n",
            "15462/15462 [==============================] - 27s 2ms/sample - loss: 6.0764 - acc: 0.0378\n",
            "Epoch 7/100\n",
            "15462/15462 [==============================] - 27s 2ms/sample - loss: 5.9920 - acc: 0.0411\n",
            "Epoch 8/100\n",
            "15462/15462 [==============================] - 27s 2ms/sample - loss: 5.8978 - acc: 0.0438\n",
            "Epoch 9/100\n",
            "15462/15462 [==============================] - 27s 2ms/sample - loss: 5.7982 - acc: 0.0508\n",
            "Epoch 10/100\n",
            "15462/15462 [==============================] - 28s 2ms/sample - loss: 5.6932 - acc: 0.0563\n",
            "Epoch 11/100\n",
            "15462/15462 [==============================] - 27s 2ms/sample - loss: 5.5943 - acc: 0.0629\n",
            "Epoch 12/100\n",
            "15462/15462 [==============================] - 27s 2ms/sample - loss: 5.4903 - acc: 0.0718\n",
            "Epoch 13/100\n",
            "15462/15462 [==============================] - 27s 2ms/sample - loss: 5.3861 - acc: 0.0763\n",
            "Epoch 14/100\n",
            "15462/15462 [==============================] - 27s 2ms/sample - loss: 5.2801 - acc: 0.0863\n",
            "Epoch 15/100\n",
            "15462/15462 [==============================] - 28s 2ms/sample - loss: 5.1772 - acc: 0.0929\n",
            "Epoch 16/100\n",
            "15462/15462 [==============================] - 27s 2ms/sample - loss: 5.0593 - acc: 0.1024\n",
            "Epoch 17/100\n",
            "15462/15462 [==============================] - 27s 2ms/sample - loss: 4.9534 - acc: 0.1101\n",
            "Epoch 18/100\n",
            "15462/15462 [==============================] - 27s 2ms/sample - loss: 4.8407 - acc: 0.1200\n",
            "Epoch 19/100\n",
            "15462/15462 [==============================] - 27s 2ms/sample - loss: 4.7267 - acc: 0.1322\n",
            "Epoch 20/100\n",
            "15462/15462 [==============================] - 27s 2ms/sample - loss: 4.6173 - acc: 0.1382\n",
            "Epoch 21/100\n",
            "15462/15462 [==============================] - 27s 2ms/sample - loss: 4.4996 - acc: 0.1512\n",
            "Epoch 22/100\n",
            "15462/15462 [==============================] - 28s 2ms/sample - loss: 4.3912 - acc: 0.1657\n",
            "Epoch 23/100\n",
            "15462/15462 [==============================] - 27s 2ms/sample - loss: 4.2844 - acc: 0.1734\n",
            "Epoch 24/100\n",
            "15462/15462 [==============================] - 27s 2ms/sample - loss: 4.1790 - acc: 0.1919\n",
            "Epoch 25/100\n",
            "15462/15462 [==============================] - 27s 2ms/sample - loss: 4.0663 - acc: 0.2059\n",
            "Epoch 26/100\n",
            "15462/15462 [==============================] - 28s 2ms/sample - loss: 3.9639 - acc: 0.2181\n",
            "Epoch 27/100\n",
            "15462/15462 [==============================] - 27s 2ms/sample - loss: 3.8593 - acc: 0.2349\n",
            "Epoch 28/100\n",
            "15462/15462 [==============================] - 27s 2ms/sample - loss: 3.7516 - acc: 0.2539\n",
            "Epoch 29/100\n",
            "15462/15462 [==============================] - 27s 2ms/sample - loss: 3.6543 - acc: 0.2694\n",
            "Epoch 30/100\n",
            "15462/15462 [==============================] - 27s 2ms/sample - loss: 3.5610 - acc: 0.2882\n",
            "Epoch 31/100\n",
            "15462/15462 [==============================] - 28s 2ms/sample - loss: 3.4621 - acc: 0.3087\n",
            "Epoch 32/100\n",
            "15462/15462 [==============================] - 27s 2ms/sample - loss: 3.3601 - acc: 0.3317\n",
            "Epoch 33/100\n",
            "15462/15462 [==============================] - 27s 2ms/sample - loss: 3.2797 - acc: 0.3440\n",
            "Epoch 34/100\n",
            "15462/15462 [==============================] - 28s 2ms/sample - loss: 3.1930 - acc: 0.3697\n",
            "Epoch 35/100\n",
            "15462/15462 [==============================] - 27s 2ms/sample - loss: 3.1079 - acc: 0.3847\n",
            "Epoch 36/100\n",
            "15462/15462 [==============================] - 28s 2ms/sample - loss: 3.0262 - acc: 0.4065\n",
            "Epoch 37/100\n",
            "15462/15462 [==============================] - 28s 2ms/sample - loss: 2.9566 - acc: 0.4227\n",
            "Epoch 38/100\n",
            "15462/15462 [==============================] - 28s 2ms/sample - loss: 2.8772 - acc: 0.4387\n",
            "Epoch 39/100\n",
            "15462/15462 [==============================] - 27s 2ms/sample - loss: 2.8137 - acc: 0.4533\n",
            "Epoch 40/100\n",
            "15462/15462 [==============================] - 28s 2ms/sample - loss: 2.7491 - acc: 0.4682\n",
            "Epoch 41/100\n",
            "15462/15462 [==============================] - 27s 2ms/sample - loss: 2.6753 - acc: 0.4827\n",
            "Epoch 42/100\n",
            "15462/15462 [==============================] - 27s 2ms/sample - loss: 2.6132 - acc: 0.5013\n",
            "Epoch 43/100\n",
            "15462/15462 [==============================] - 27s 2ms/sample - loss: 2.5429 - acc: 0.5162\n",
            "Epoch 44/100\n",
            "15462/15462 [==============================] - 27s 2ms/sample - loss: 2.4807 - acc: 0.5292\n",
            "Epoch 45/100\n",
            "15462/15462 [==============================] - 27s 2ms/sample - loss: 2.4203 - acc: 0.5410\n",
            "Epoch 46/100\n",
            "15462/15462 [==============================] - 27s 2ms/sample - loss: 2.3869 - acc: 0.5479\n",
            "Epoch 47/100\n",
            "15462/15462 [==============================] - 27s 2ms/sample - loss: 2.3314 - acc: 0.5605\n",
            "Epoch 48/100\n",
            "15462/15462 [==============================] - 27s 2ms/sample - loss: 2.2718 - acc: 0.5779\n",
            "Epoch 49/100\n",
            "15462/15462 [==============================] - 28s 2ms/sample - loss: 2.2283 - acc: 0.5872\n",
            "Epoch 50/100\n",
            "15462/15462 [==============================] - 27s 2ms/sample - loss: 2.1841 - acc: 0.5990\n",
            "Epoch 51/100\n",
            "15462/15462 [==============================] - 27s 2ms/sample - loss: 2.1374 - acc: 0.6070\n",
            "Epoch 52/100\n",
            "15462/15462 [==============================] - 27s 2ms/sample - loss: 2.1057 - acc: 0.6145\n",
            "Epoch 53/100\n",
            "15462/15462 [==============================] - 27s 2ms/sample - loss: 2.0560 - acc: 0.6200\n",
            "Epoch 54/100\n",
            "15462/15462 [==============================] - 28s 2ms/sample - loss: 2.0060 - acc: 0.6373\n",
            "Epoch 55/100\n",
            "15462/15462 [==============================] - 28s 2ms/sample - loss: 1.9604 - acc: 0.6473\n",
            "Epoch 56/100\n",
            "15462/15462 [==============================] - 27s 2ms/sample - loss: 1.9285 - acc: 0.6528\n",
            "Epoch 57/100\n",
            "15462/15462 [==============================] - 27s 2ms/sample - loss: 1.8923 - acc: 0.6596\n",
            "Epoch 58/100\n",
            "15462/15462 [==============================] - 27s 2ms/sample - loss: 1.8591 - acc: 0.6695\n",
            "Epoch 59/100\n",
            "15462/15462 [==============================] - 27s 2ms/sample - loss: 1.8266 - acc: 0.6749\n",
            "Epoch 60/100\n",
            "15462/15462 [==============================] - 28s 2ms/sample - loss: 1.7868 - acc: 0.6867\n",
            "Epoch 61/100\n",
            "15462/15462 [==============================] - 27s 2ms/sample - loss: 1.7615 - acc: 0.6894\n",
            "Epoch 62/100\n",
            "15462/15462 [==============================] - 27s 2ms/sample - loss: 1.7251 - acc: 0.6942\n",
            "Epoch 63/100\n",
            "15462/15462 [==============================] - 27s 2ms/sample - loss: 1.7067 - acc: 0.7009\n",
            "Epoch 64/100\n",
            "15462/15462 [==============================] - 27s 2ms/sample - loss: 1.6755 - acc: 0.7079\n",
            "Epoch 65/100\n",
            "15462/15462 [==============================] - 27s 2ms/sample - loss: 1.6397 - acc: 0.7123\n",
            "Epoch 66/100\n",
            "15462/15462 [==============================] - 27s 2ms/sample - loss: 1.6162 - acc: 0.7206\n",
            "Epoch 67/100\n",
            "15462/15462 [==============================] - 27s 2ms/sample - loss: 1.5917 - acc: 0.7225\n",
            "Epoch 68/100\n",
            "15462/15462 [==============================] - 27s 2ms/sample - loss: 1.5588 - acc: 0.7317\n",
            "Epoch 69/100\n",
            "15462/15462 [==============================] - 27s 2ms/sample - loss: 1.5337 - acc: 0.7366\n",
            "Epoch 70/100\n",
            "15462/15462 [==============================] - 27s 2ms/sample - loss: 1.5188 - acc: 0.7379\n",
            "Epoch 71/100\n",
            "15462/15462 [==============================] - 27s 2ms/sample - loss: 1.4992 - acc: 0.7437\n",
            "Epoch 72/100\n",
            "15462/15462 [==============================] - 27s 2ms/sample - loss: 1.4832 - acc: 0.7441\n",
            "Epoch 73/100\n",
            "15462/15462 [==============================] - 27s 2ms/sample - loss: 1.4409 - acc: 0.7558\n",
            "Epoch 74/100\n",
            "15462/15462 [==============================] - 27s 2ms/sample - loss: 1.4413 - acc: 0.7537\n",
            "Epoch 75/100\n",
            "15462/15462 [==============================] - 27s 2ms/sample - loss: 1.4152 - acc: 0.7585\n",
            "Epoch 76/100\n",
            "15462/15462 [==============================] - 27s 2ms/sample - loss: 1.4038 - acc: 0.7584\n",
            "Epoch 77/100\n",
            "15462/15462 [==============================] - 27s 2ms/sample - loss: 1.3970 - acc: 0.7587\n",
            "Epoch 78/100\n",
            "15462/15462 [==============================] - 27s 2ms/sample - loss: 1.3764 - acc: 0.7626\n",
            "Epoch 79/100\n",
            "15462/15462 [==============================] - 27s 2ms/sample - loss: 1.3485 - acc: 0.7731\n",
            "Epoch 80/100\n",
            "15462/15462 [==============================] - 27s 2ms/sample - loss: 1.3332 - acc: 0.7709\n",
            "Epoch 81/100\n",
            "15462/15462 [==============================] - 27s 2ms/sample - loss: 1.3215 - acc: 0.7727\n",
            "Epoch 82/100\n",
            "15462/15462 [==============================] - 27s 2ms/sample - loss: 1.2952 - acc: 0.7828\n",
            "Epoch 83/100\n",
            "15462/15462 [==============================] - 27s 2ms/sample - loss: 1.2754 - acc: 0.7831\n",
            "Epoch 84/100\n",
            "15462/15462 [==============================] - 28s 2ms/sample - loss: 1.2673 - acc: 0.7833\n",
            "Epoch 85/100\n",
            "15462/15462 [==============================] - 27s 2ms/sample - loss: 1.2570 - acc: 0.7844\n",
            "Epoch 86/100\n",
            "15462/15462 [==============================] - 27s 2ms/sample - loss: 1.2513 - acc: 0.7850\n",
            "Epoch 87/100\n",
            "15462/15462 [==============================] - 28s 2ms/sample - loss: 1.2380 - acc: 0.7889\n",
            "Epoch 88/100\n",
            "15462/15462 [==============================] - 27s 2ms/sample - loss: 1.2233 - acc: 0.7897\n",
            "Epoch 89/100\n",
            "15462/15462 [==============================] - 27s 2ms/sample - loss: 1.2129 - acc: 0.7910\n",
            "Epoch 90/100\n",
            "15462/15462 [==============================] - 28s 2ms/sample - loss: 1.2035 - acc: 0.7944\n",
            "Epoch 91/100\n",
            "15462/15462 [==============================] - 27s 2ms/sample - loss: 1.1816 - acc: 0.7982\n",
            "Epoch 92/100\n",
            "15462/15462 [==============================] - 28s 2ms/sample - loss: 1.1669 - acc: 0.8024\n",
            "Epoch 93/100\n",
            "15462/15462 [==============================] - 28s 2ms/sample - loss: 1.1653 - acc: 0.7969\n",
            "Epoch 94/100\n",
            "15462/15462 [==============================] - 28s 2ms/sample - loss: 1.1579 - acc: 0.8000\n",
            "Epoch 95/100\n",
            "15462/15462 [==============================] - 27s 2ms/sample - loss: 1.1490 - acc: 0.8004\n",
            "Epoch 96/100\n",
            "15462/15462 [==============================] - 27s 2ms/sample - loss: 1.1391 - acc: 0.8022\n",
            "Epoch 97/100\n",
            "15462/15462 [==============================] - 27s 2ms/sample - loss: 1.1283 - acc: 0.8044\n",
            "Epoch 98/100\n",
            "15462/15462 [==============================] - 28s 2ms/sample - loss: 1.1160 - acc: 0.8082\n",
            "Epoch 99/100\n",
            "15462/15462 [==============================] - 27s 2ms/sample - loss: 1.1121 - acc: 0.8046\n",
            "Epoch 100/100\n",
            "15462/15462 [==============================] - 28s 2ms/sample - loss: 1.1093 - acc: 0.8077\n"
          ],
          "name": "stdout"
        }
      ]
    },
    {
      "cell_type": "code",
      "metadata": {
        "id": "Yq0jJmoxa8kT",
        "colab_type": "code",
        "colab": {
          "base_uri": "https://localhost:8080/",
          "height": 545
        },
        "outputId": "b908ce03-a7d2-40d8-c4b6-52fb6cb1c03d"
      },
      "source": [
        "import matplotlib.pyplot as plt\n",
        "acc = history.history['acc']\n",
        "loss = history.history['loss']\n",
        "\n",
        "epochs = range(len(acc))\n",
        "\n",
        "plt.plot(epochs,acc,'b',label= 'Training accuracy')\n",
        "plt.title('Training accuracy')\n",
        "\n",
        "plt.figure()\n",
        "\n",
        "plt.plot(epochs,loss,'b',label='Training Loss')\n",
        "plt.title('Training Loss')\n",
        "plt.legend()\n",
        "\n",
        "plt.show()"
      ],
      "execution_count": 5,
      "outputs": [
        {
          "output_type": "display_data",
          "data": {
            "image/png": "[encoded data removed]",
            "text/plain": [
              "<Figure size 432x288 with 1 Axes>"
            ]
          },
          "metadata": {
            "tags": []
          }
        },
        {
          "output_type": "display_data",
          "data": {
            "image/png": "[encoded data removed]",
            "text/plain": [
              "<Figure size 432x288 with 1 Axes>"
            ]
          },
          "metadata": {
            "tags": []
          }
        }
      ]
    },
    {
      "cell_type": "code",
      "metadata": {
        "id": "oiQ-PDhibPFn",
        "colab_type": "code",
        "colab": {
          "base_uri": "https://localhost:8080/",
          "height": 54
        },
        "outputId": "605d075d-bf68-423e-ce22-ba646d5b681a"
      },
      "source": [
        "seed_text = \"Help me Obi Wan Kenobi, you're my only hope\"\n",
        "next_words = 100\n",
        "  \n",
        "for _ in range(next_words):\n",
        "\ttoken_list = tokenizer.texts_to_sequences([seed_text])[0]\n",
        "\ttoken_list = pad_sequences([token_list], maxlen=max_sequence_len-1, padding='pre')\n",
        "\tpredicted = model.predict_classes(token_list, verbose=0)\n",
        "\toutput_word = \"\"\n",
        "\tfor word, index in tokenizer.word_index.items():\n",
        "\t\tif index == predicted:\n",
        "\t\t\toutput_word = word\n",
        "\t\t\tbreak\n",
        "\tseed_text += \" \" + output_word\n",
        "print(seed_text)"
      ],
      "execution_count": 16,
      "outputs": [
        {
          "output_type": "stream",
          "text": [
            "Help me Obi Wan Kenobi, you're my only hope and loved with well some shade so bad deem'd used 'no ' fall say such decay water did curious days find desired show thee strange tend prove thee more deem'd last so fears to live now give thee kind so remain bring ill young ill fears to some cross'd fired grossly taken held amazeth pace fired delight ' ears tend live rare releasing young told alone clears strange days be one near grace you last so bad bright thee doth last so bad well eyes write such delight ' hate indigest foes another shade days find arising commend days live\n"
          ],
          "name": "stdout"
        }
      ]
    }
  ]
}